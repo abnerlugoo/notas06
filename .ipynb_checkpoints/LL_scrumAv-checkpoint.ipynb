{
 "cells": [
  {
   "cell_type": "markdown",
   "id": "7f48edde",
   "metadata": {},
   "source": [
    "### Notas Abner Lugo - Octubre 2023"
   ]
  },
  {
   "cell_type": "markdown",
   "id": "aaa7864e",
   "metadata": {},
   "source": [
    "## 01.01 Scrum LL: \n"
   ]
  },
  {
   "cell_type": "markdown",
   "id": "fa208c76",
   "metadata": {},
   "source": [
    "Repaso general: \n",
    "\n",
    "Scrum es un marco de trabajo basado en el valor. Se trata de conocer el valor que busca el cliente, cómo organizarse de acuerdo a ese valor y cómo entregarlo de manera rápida e interactiva.\n",
    "\n",
    "Es un marco de trabajo ligero, compuesto por períodos breves llamados sprints, que suelen durar dos semanas. Durante ese período, el equipo completo se dedica a entregar tanto valor como haya solicitado el cliente.\n",
    "\n",
    "Para mantenerse centrado en los sprints que deben entregar, el equipo se reúne de pie todos los días durante quince minutos. En estas reuniones, el equipo coordina las tareas diarias y destaca las áreas en las que necesita ayuda.\n",
    "\n",
    "El equipo recibe el trabajo del Product Owner, que es el representante comercial del cliente. Este se encarga de conocer el trabajo que pide la parte interesada y organizarlo de acuerdo a su prioridad. Lo comparte al equipo como historias del usuario y el equipo lo desarrolla y prueba según los requisitos de aceptación de las historias.\n",
    "\n",
    "Cada historia es un fragmento individual y totalmente funcional del producto en el que se está trabajando. Al final del sprint, el equipo muestra el producto completamente funcional que se desarrolló. Si los interesados lo aceptan, se considera completo y no debe dedicarse más trabajo a él.\n",
    "\n",
    "Retroalimentación: Cuando el equipo finaliza la muestra, se evalúa el rendimiento del trabajo en grupo. Esto no es una crítica, sino una conversación sobre cómo pueden trabajar mejor como unidad. En lugar de evaluar las lecciones aprendidas al final del proyecto, se hacen pausas al final de cada sprint.\n",
    "\n",
    "Es una herramienta muy poderosa para adaptarse y crecer continuamente como equipo, mejorando la rapidez y calidad en cada sprint. Scrum se ha convertido en el método ágil más popular, ya que es ligero y efectivo. Es fácil ver resultados con Scrum."
   ]
  },
  {
   "cell_type": "markdown",
   "id": "024ca5dc",
   "metadata": {},
   "source": [
    "# \n",
    "El equipo es el nucleo del producto, pero el product owner y el scrum master son escenciales para que se mueva en la dirección correcta. Es verdad, el PO es resposanble de la dirección a seguir, es el que se relaciona con las partes interesadas, define la visión de los porductos finales para que todos sepan lo que deben crear, elabora la hoja de ruta para mostrar cómo se alcanza la visión. Pero no es suficiente, además tiene que establecer cual es el trabajo más improtante para crear el propducto viable mínimo (MVP), este es el primer objetivo del produc to, ya que es el produto más pequeño que se produce para obtener opiniones del cliente. \n",
    "\n",
    "Esa opinión se convierte en nuevos requisitos y en nuevas historias del usuario, las historias son el trabajo pendiente del producto, el backlog. Los mejores PO, revisan y limpian constantemente la pila de trabajo, se aseguran de que contenga todos los detalles para que la porimera hisotria est´pe lista para que el equipo trabaje con ella. \n",
    "\n",
    "Mientras el PO se centra en las partes interesadas(clientes), el SM se centra en el equipo, es el propietario del proceso del equipo de trabajo de scrum, son los guardianes del amrco de trabajo de scrum, se aseguran que el equipo se mantenga dentro de los límites, modera las reuniones \"ceremonias\" y garantizan que las ceremonias se celebren en el momento adecuado con los asistentes adecuados. Son responsables del cumplimiento y actuan como guardianes del equipo. Su trabajo es garantizar la salud del equipo, por lo tanto, limita las distracciones e impide el exceso de compromisos.\n",
    "\n",
    "El PO quiere desarrollar y lanzar el producto rápido, y el  SM quiere que el equipo trabaje a un ritmo sostenible. Ambos son escenciales para poner en marcha scrum de forma exitosa. "
   ]
  },
  {
   "cell_type": "markdown",
   "id": "6bfa65b0",
   "metadata": {},
   "source": [
    "#\n",
    "\n",
    "Al centrarse el PO en el producto y el SM en el equipo, es normal que haya discrepancia de opiniones, le han dado al PO este equipo para hacer realidad la visión del cliente. En agile y scrum, el PO sabe que puede contar con el equipo durante un perido específico, no peude tardar ni gastar más, es natural que el PO quieta que el producto tenga todas las características posibles, pero el SM dice que debemos mantenernos dentro de los límites de Scrum, necesitamos todas las ceremonias, deben realizarse de forma correcta y trabajar a a un ritmo sostenible. \n",
    "\n",
    "Su semana laboral debe ser normal, sin fines de semana y sin horas extras, el SM aboga por que el equipo mejore su rendimiento, no en mejorar el producto, sino a sí mismo. Con tanta importancia en el equipo, el PO puede proocuparse en cómo vana  entregar el producto, es posible que no esté de acuerdo con el SM por centrarse en el proceso antes que en el producto, el SM debe mencionar la iomportancia de mantenerse dentro de los límites de scrum, además mencionará que los equipos saludables ofrecen mayor calidad. \n",
    "\n",
    "Se trata de una sana oposición, se encuentra el equilibrio. El PO y el SM son fuerzas opuestas que mantienen el equiplibrio, es una oposición necesaria. Agrega oposición entre el PO y el SM apra que el equipo florezca. "
   ]
  },
  {
   "cell_type": "markdown",
   "id": "758e20c2",
   "metadata": {},
   "source": [
    "## 1.02  El PO como representante comercial. \n",
    "\n",
    "### Necesidades comerciales, visión del producto y hoja de ruta. \n",
    "\n",
    "El PO está entre el equipo y el negocio, el equipo confía que el PO haya indicado las características adecuadas y el PO arantiza que se satisfagfan las necesidades del equipo. El exito del equipo depende en gran medida del PO. \n",
    "\n",
    "El PO es el neogciador princiapl, busca el equilibrio entre las aportaciones del equipo y la de las parts interesadas. El PO se reune con las partes interesadas a menudo, al menos una vez por sprint para ver si las historias describen las necesidades del negocio con precisión, también supervisa las pruebas diarias de lashistorias de cada sprint para aclarar los puntos necesarios a emdida que se desarrollan las histotrias, de este modo, se asegura que n hay sopresas al momebnto e la revisión del sprint. \n",
    "\n",
    "Cuando se reune con un cliente, acepta sus nuevas historias, comparte las historias de otros interesados y las organiza por orden de prioridad. Estas eruniones modifican el trabajo pendiente, la visión y dirección del equipo. Los interesados del negocio saben lo que quiere el cliente, pero los miembros del equipo saben cómo se hace, el equipo trabaja diario con el propietario, comparten historias técnicas o no funcionales para añadir normas téxnicas y de arquitecturaal producto, es decir, el PO al mismo tiempo de que negocia con los interesados para dar prioridad a todas las funciones, los convence de la necesidad de ofrecer aspectos no funcionales. Por ejemplo, los clientes deben inciair sesion en la aplicación, pero es necesario una base para lamacenar datos de usuarios, los interesados quieren que funcione el inicio de sesión, pero el equipo quiere la base de datos. Las historias no funcionales puede ralentizar la entrega de las características deseadas, el PO debe conseguir que los interesados comprendan la necesidad de este tipo de historias. El PO dialoga con cada grupo de gente que tenga interes personal en el resultado del producto, se centra en entender, definir, negociar e influir."
   ]
  },
  {
   "cell_type": "markdown",
   "id": "db41df94",
   "metadata": {},
   "source": [
    "# \n",
    "\n",
    "Una de las funciones del PO es convertir una idea en visión, es dificil que este lo consiga solo. Un modo de involucrar a los demás para que contribuyan a encontrar la visión es inclurirlos en la definición, cuando se celebra una sesión para desarrollar la sesión el PO invita al equipo, a los itneresados y al patrocinador ejecutivo. Es improtante que el PO invite a los interesados de otras áreas de la empresa, por ejemplo, representantes de informática, atención al cliente o ventas, a pesar de que el proyecto no los beneficie directamente. \n",
    "\n",
    "Este es el primer paso para que toda la empresa conecte con la propuesta, si alguna persona o algun sector piensa que no se le considera o solicita opinión, es poco probable que respalde el produc to cuando sea necesario. No es necesario invitar a todos, solo a un representante clave de cada sección, se sugiente un numero de asistentes menor a 20. \n",
    "\n",
    "Se sugiere un ejercicio donde se desarrolla una caja (parte delantera y trasera), con bullet points, nombre, logo, descripción, entre otros. Una opción para la orgnización es realizar una reunión donde el PO diriga y el equipo vacía ideas, o también la opción de dividir a los asistentes para que cada equipo diseñe y venda su caja. Entre todos los asistentes se decide cuando un producto está hecho. "
   ]
  },
  {
   "cell_type": "markdown",
   "id": "ae0c9cbe",
   "metadata": {},
   "source": [
    "# \n",
    "\n",
    "¿Como se va a entregar el produto? \n",
    "\n",
    "Una de las ehrramientas clave es la HOJA DE RUTA, el PO debe programar una sesión para establecerla, en esta reunión se encesita al PO, SM y a todo el equipo, pueden incluirse interesados, patrocinador o expertos en la materia, con estos asistentes nos aseguramos que no falte ningun elemento fundamental. \n",
    "\n",
    "De acuerdo al número de asistentes, esta reunión se recomienda de una dureación de entre cuatro y ocho horas. La reunión inicia identificando los temas, es decir, los grupos de característicias o funciones que necesita el producto, después de identificar los temas, se orgnizan de acuerdo a su prioridad. La prioridad puede no ser lineal, es decir, no debe completarse todo el tema de una vez, \n",
    "\n",
    "por ejemplo si se desarrolla una herramienta de gestión de la relación con el cliente, los temas eran perfil de usuario, perfil del cliente e informes, los temas pueden repartirse a lo largo del tiempo, \n",
    "\n",
    "una vez definida la hoja de ruta, el PO puede guiar al grupo a traves de la pila inicial de historias, el PO da a conocer las historias y el grupo las implementa en el tema adecuado de la hoja de ruta. Los asistentes también pueden indentificar historias faltantes para incluirlas en la hoja de ruta, esta es solo una aproximación, no como un plazo fijo. Es un docuemtno en evolución que guia al equipo hasta la finalización. \n",
    "\n",
    "\n",
    "#\n",
    "\n",
    "Scrum no es inmune a obstáculos comunes, un obstáculo clásico, es tener a una parte interesada rebelde, donde el PO muestra la historia y el itneresado considera que la historia no es correcta. El primer paso consiste en que el PO y el equipo escuchen lo que dice el interesado, en cada una de estas sesiones, debe haber anotaciones de estas interacciones.  Se deben frmular preguntas para saber lo que piensa el interesado sobre las historias de usuario, si considera que son malas, el PO debe hablar con el al termino de la sesión, si considera que es buena historia, debemos preguntar si no está de acuerdo con los criterios para aceptar la historia, si no los acepta, es necesario anotar rapidamente lo que busca, pues puede tratarse de una nueva historia, se agradece por informar al equipo. Si el interesado considera que la historia y los criterios son correctos, pero tiene otros motivos para estar en desacuerdo, hayq eu anotar el desacuerdo y ofrecer una reunión con el PO, para que entienda que al equipo le importan sus necesidades. También pueden anotarse las preocupaciones para que todos los participantes puedan verlas. \n",
    "\n",
    "La mayoria de las veces, los itneresados no comprenden los criterios, o buscan una historia adicional, otras veces se trata de alguien muy exigente, si esto continua, el PO y el SM deben reunirse con el patrocinador ejecutivo para buscar otra solución. \n",
    "\n",
    "La finalización anómala de un sprint es también un obstáculo poco común, pero que por lo mismo, rara vez se analiza a profundidad. Se deriva de algún imprevisto, en donde el sprint planificado deja de ser válido, por ejemplo, si se crea una herramienta y finalmente se decide comprar una, se finaliza el sprint y se arranca uno nuevo. Otra razón más común es cuando el equipo arraca un nuevo sprint, tras un par de días se dan cuenta que tardará mas tiempo del esperado, es etonces cuando el PO puedeplanificar nuevamente el sprint. El PO es quien tiene la última decisión apra finalizar el sprint, la decisión se basa en el valor, como no se puedemodificar tiempo ni costo, es necesario evaluar si es lo más valioso que puede entregar el equipo con los nuevos datos, el PO necesita consultar con el equipo y con el SM para finalizar el sprint. "
   ]
  },
  {
   "cell_type": "markdown",
   "id": "cde2ad05",
   "metadata": {},
   "source": [
    "## 1.03 El PO como guia comercial del equipo.\n",
    "\n",
    "Los equipos de scrum con más experiencia, concuerdan con que la parte más dificil es crear historias de usuario. La escritura de las historias tiene un ciclo, las primeras historias suelen ser largas y con pocos detalles. Se les concen como epopeyas, a medida que el equipo conoce las necesidades del usuario, las epopeyas se descomponen en historias más cortas. Las historias de usuario deben seguir el acrónimo en ingles INVEST:\n",
    "\n",
    "I: Independient ( Independientes ) \n",
    "N: Negociable ( Negociable )\n",
    "V: Valuable ( Valiosa ) \n",
    "E: Estimable ( Calculable ) \n",
    "S: Small ( Pequeñas )\n",
    "T: Testable ( Comprobable ) \n",
    "\n",
    "Cada historia debe proporcionar valor por sí misma, el análsisi basado en la función puede ayudar a escribir historias de usuario, ya que son los apsos básicos apra realizar una tarea: \n",
    "\n",
    "- Crear \n",
    "- Leer\n",
    "- Actualizar \n",
    "- Eliminar\n",
    "\n",
    "En el ejemplo que analizamos previamente de la herrameienta de gestión, la epopeya podría ser: \"como vendedor, quiero gestionar el perfil de mis clientes para tener la información precisa\" una primer historia siguiendo los pasos básicos, puede ser: \"como vendedor, quiero CREAR un perfil de cliente para poder almacenar su información\" , \"como vendedor quiero buscar o LEER información acerca de mis clientes para saber qué relaciones debo fomentar\", \" como vendedor quiero ACTUALIZAR el perfil de un cliente para que los datos sean precisos\" y \"como vendedor quiero ELIMINAR el perfil de mis clientes para no eprder el tiempo con negocios con los que ya no trabajo\".\n",
    "\n",
    "Cada de estas historias tiene valor, serán utiles aunque las otras no estén hechas. Otra técnica a seguir es establecer los pasos de un proceso para dividir las historias de usuario, por ejemplo, seguir los pasos desde la perspectiva del cliente. \n",
    "\n",
    "#\n",
    "\n",
    "Ya contamos con la visión, los temas y la hoja de ruta para el proyecto, ahora debemos calcular qué se va a entrgar y cuando. Es necesario planificar una reunión para planificar el lanzamiento, con el equipo, el scrum master, el PO, los interesados, expertos en la materia y puede incluirse o no el patrocinador, esta reunión tendrá una duración de una o dos horas. Scrum se centra en hacer lo justo y a tiempo, es por lo mismo que se prefiere ser preciso y planificar tiempos cortos. \n",
    "\n",
    "Para la reunión de planificación del lanzamiento, es necesario saber la longitud del sprint, el trabajo pendiente calculado, así como su orden de prioridad y la velocidad real o prevista. En un plan basado en el cronograma, se cuenta con una fecha fija, se determina qué se entrega en ese periodo, de acuerdo a la prioridad de las historias y los temas. \n",
    "    - Por ejemplo, en un plan trimestral, la velocidad de cada sprint será de 12 puntos, entonces el equipo entregará dos sprints al mes (24 puntos) y cubrirá 72 puntos al finalizar el trimestre. - \n",
    "En un plan de lanzamiento basado en la funcionalidad, el PO y los interesados pueden ver los temas y plantear objetivos de acuerdo al proyecto, \n",
    "    - Como ya tenemos las historias, el equipo puede reunir las historias y asignar valor a cada una para sumar los cálculos aproximados en 12 puntos por sprint, de esta forma podemos tener también la fecha de lanzamiento. Es una fecha aproximada, es un documento evolutivo que debe ser actualizado al final de cada sprint. \n",
    "    \n",
    "EL plan de lanzamento ayuda al PO y al equipo en convertir la hoja de ruta en una herramienta táctica para conseguir la visión, gracias a ella los resultados del equipo son valiosos. \n",
    "\n",
    "#\n",
    "\n",
    "Una de las responsabilidades del PO es actualizar el trabajo pendiente, para que el equipo tenga historias sólidas al planificar el sprint. El PO organiza el trabajo a medida que progresan las historias y se reune con los itneresados, sin embargo, una parte muy iomportante es la limpieza del trabajo pendiente. \n",
    "\n",
    "Esta se divide en dos reuniones: PLanificación previa del sprint y la limpieza del trabajo pendiente. Se decide dividir ya que es mejor que todo el equipo estépresente en la planificación previa, para que escuchen las historias. A la sesión de limpieza de los trabajos pendientes solo asiste el PO, el SM, el experto en la materia y el experto técnico, se escriben nuevas historias o se modifican las hechas para asegurarse que el trabajo pendiente refleje la visión. \n",
    "\n",
    "Una doble sesión de planificación donde se engloben estas dos, también puede resultar, cuando el sprint va por la mitad, antes de la reunión previa del sprint, ya que si existen propuestas adicionales sobre los requisitos de aceptación el PO tiene tiempo de obtener respuestas, de igual forma, si el PO necesita respuestas o desea una historia determinada en el siguiente sprint, puede obtener las respuestas y limpiar para dar prioridad a esta historia antes de comenzar la planificación. \n",
    "\n",
    "Durante la sesión de limpieza de los trabajos pendientes, el PO indica el objetivo del sprint, depende del plan de lanzamiento y ayuda a centrar al equipo en ese obhjetivo de lanzamiento. El equipo revisa las historias, asegurándose que sean claras, se comentan en detalle y se ponen de acuerdo sobre qué quiere decir \"que una hsitoria esté hecha\", durante la sesión también se actualizan los trabajos pendientes y se actualiza la hoja de ruta para mostrar cambios producidos.  \n",
    "\n",
    "Algunos equipos no se reunen para estas sesiones de limpieza, sin emabrgo, se recomeinda que para equipos nuevos o jóvenes, se introduzcan estas prácticas para aprender a negociar y colaborar como equipo. "
   ]
  },
  {
   "cell_type": "markdown",
   "id": "803348ef",
   "metadata": {},
   "source": [
    "## 1.04 El Scrum Master como intercesor del equipo.\n",
    "\n",
    "### Liderazgo de servicio\n",
    " \n",
    "El liderazgo de servicio es una filosofica que garantiza que se satisfagan las necesidades ajenas con mayor prioridad. El liderazgo de proyectos tradicional, e basa en la gestión, la gestión implica administrar, dirigir o controlar, sin emabrgo el liderazgo se centra en guiar y orientar en una dirección. Aquí destacamos la diferencia entre un gerente y un líder. Un líder de servicio es lo opuesto a alguien que da ordenes y no se preocupa si el equipo se interesa por los resultados. Sin embargo, los equipso de trabajo también deben cumplir ciertas características para que esto funcione: \n",
    "\n",
    "- Autonomía : La gente quiere autoorganizarse\n",
    "- Destreza : Las personas desean mejorar continuamente\n",
    "- Propósito: Debemos trabajar por un bien común\n",
    "\n",
    "El scrum master es el lider de servicio del equipo, cuando decimos que vela por la salud del equipo, no referimos a las habilidades que tiene como lider de servicio. Se dedica a empoderar al equipo, para que sea autónomo para que el equipo se comprometa a lograr resultados, informa sobre visión y objetivo, elimina obstáculos para que el equipo domine el trabjo que hace. \n",
    "\n",
    "Un líder de servicio debe ser: persuativo, empatico, escucha y negociador, es humilde para hacer preguntas y admitir que no lo sabe todo, para medir resultados y responsabilizar al equiop de sus acciones. \n",
    "\n",
    "### Fases de formación y de conflicto de equipo: \n",
    "\n",
    "Formación, conflicto, normalización y desempeñoo con fases de desarrollo de grupo. \n",
    "\n",
    "Formación: Tiempo dedicado a conocerse, cada empleado sabe quien es y qué aporta al equipo. El lider debe anticipar las dudas que ellos puedan tener y no quieran preguntar. El lider debe mantener conversaciones individuales con cada mimebro, facilitar las conversaciones grupales para que se conozcan. Aquí se define lo que se considera como logro, para compartir la resposabilidad de alcanzar el éxito. Así se animan a autoorganizarse.\n",
    "\n",
    "Conflicto: No todos los equipos pasan por esta fase, pero la mayoría sí. Algunos puedes lograrla en poco tiempo, otros puedene estancarse mucho tiempo. El conflicto se caracteriza por cuestionar las habilidades y conocimentos de los demás, así como dudar de las decisiones del PO o del SM. Es importante asegurar que esta fase no detenga el progreso, si se evita el conflicto, puede perjudicar a la larga, es mejor enfrentarlo. En esta fase las personas se dan cuenta que necesitan de las otras personas apra salir adelante. Como lider se debe ayudar, recordando la normas de interacción para solucionar las diferencias entre ellos. El objetivo es que aprecien las habilidades de los demás y se conformen como un equipo. \n",
    "\n",
    "Normalización: Se detecta cuando todos los miembros del equipo se hacen responsables de su trabajo y de las relaciones con los demás. Comaprten las mismas ganas de alcanzar el éxito, el único problema que puede surgir es que el equipo se sienta tan cómodo con esta unidad que evite hacer sugerencias que puedan ser controvertidas. Se debe formar a los líderes para que comprtan ideas en cada oportunidad, el equipo ganará confianza en su capacidad de evaluar las situaciones y tomar decisiones sin ayuda. Lo importante es que el lider guie al equipo, con preguntas de calidad que empujarán a la última fase.\n",
    "\n",
    "Desempeño: El equipo es totalmente autónomo, los miembros mustran lealtad y se comportan como una familia. Cuentan con herramientas para solucionar sus conflictos.\n",
    "\n",
    "Aunque un equipo funcione al máximo rendimiento, esto puede cambiar, pueden alterarse al añadir cambios o miembros, al supervisar al equipo es importante identificar la fase en la que se encuentran. Para guiarlos y hacer que rindan el máximo."
   ]
  },
  {
   "cell_type": "markdown",
   "id": "29bbf1f6",
   "metadata": {},
   "source": [
    "## El Scrum Master como guardían del equipo.\n",
    "\n",
    "### Eliminar impedimentos del equipo.\n",
    "\n",
    "Al eliminar obstáculos en Scrum, se logran dos objetivos:\n",
    "\n",
    "1.- Establecer confianza entre el equipo y el Scrum Master.\n",
    "2.- Mantener al equipo centrado en el trabajo.\n",
    "\n",
    "Los obstáculos surgen en las reuniones diarias de pie. La pregunta '¿Qué se interpone en mi camino?' ayuda a que el equipo se sienta cómodo planteando problemas sin resolver. El Scrum Master toma nota de estas observaciones y la reunión continúa. Los obstáculos pueden clasificarse de la siguiente manera:\n",
    "\n",
    "    Internos del equipo: Por ejemplo, un proceso del equipo que no funciona bien, suele tener solución mediante la organización y negociación.\n",
    "    Conflictos interpersonales: Los más difíciles de gestionar se producen en la fase de conflicto; se resuelven con buenas habilidades de facilitación.\n",
    "    Problema de gestión de la dependencia: Con la ceremonia \"Scrum de Scrums\", se notifica el progreso entre los Scrum Masters; funciona para eliminar los obstáculos para que los equipos obtengan lo que necesitan.\n",
    "    Problema de la organización: El Scrum Master deberá informar el problema al Product Owner y a los interesados, así como confiar en el equipo para buscar opiniones sobre cómo mejorar el proceso.\n",
    "    \n",
    "El Scrum Master debe eliminar distracciones y proteger al equipo. Debe ser el guardián del tiempo en el que se realiza el sprint, ubicando atrasos y razones que pueden intervenir en el desempeño del equipo. Por ejemplo, abandonos de trabajo en el equipo. Es necesario evaluar si las historias pueden trasponerse a los siguientes sprints si se encuentran en una situación de atraso. Muchas veces es tarea del Scrum Master encontrar estas pistas que retrasan y comprometen el trabajo del equipo.\n",
    "\n",
    "Scrum es fácil de ejecutar pero difícil de dominar. Es importante celebrar los éxitos cuando los hay, para mantener centrado y motivado al equipo. Es difícil mantener un equipo participativo si esta práctica se hace únicamente al final. Al centrarnos en el éxito, obtenemos más éxito. Es muy importante destacar la destreza y las habilidades del equipo Scrum; la celebración significa reconocimiento"
   ]
  }
 ],
 "metadata": {
  "kernelspec": {
   "display_name": "Python 3 (ipykernel)",
   "language": "python",
   "name": "python3"
  },
  "language_info": {
   "codemirror_mode": {
    "name": "ipython",
    "version": 3
   },
   "file_extension": ".py",
   "mimetype": "text/x-python",
   "name": "python",
   "nbconvert_exporter": "python",
   "pygments_lexer": "ipython3",
   "version": "3.10.9"
  }
 },
 "nbformat": 4,
 "nbformat_minor": 5
}
