{
 "cells": [
  {
   "cell_type": "markdown",
   "id": "7f48edde",
   "metadata": {},
   "source": [
    "### Notas Abner Lugo - Octubre 2023"
   ]
  },
  {
   "cell_type": "markdown",
   "id": "aaa7864e",
   "metadata": {},
   "source": [
    "## 01.01 Scrum avanzado: \n",
    "\n",
    "### Perfeccionamos la base de Scrum:"
   ]
  },
  {
   "cell_type": "markdown",
   "id": "fa208c76",
   "metadata": {},
   "source": [
    "Repaso general: \n",
    "\n",
    "Scrum es un marco de trabajo basado en el valor, se trata de conocer el valor que busca el cliente, cómo organizarse de acuerdo a ese valor y cómo entregar ese valor de una manera rapida e interactiva. \n",
    "\n",
    "Es un amrco de trabajo ligero, está formado por periodos breves llamados sprints. Suelen durar dos semanas y durante ese periodo el equipo compelto se dedica a entregar tanto valor como haya solicitado el cliente.\n",
    "\n",
    "Para mantenerse centrado en los sprints que deben entregar, el equipo se reune de pie todos los días durante quince minutos, en estas reuniones, el quipo coordina las tareas diarias y destaca las áreas en las que necesitaayuda. \n",
    "\n",
    "El equipo recibe el trabajo del product owner que es el representante comercial del cliente. Este se encarga de conocer el trabajo que pide la parte interesada y organizarlo de acuerdo a su prioridad, lo comparte al equipo como historias del usuario y el equipo lo desarrolla y prueba segun los requisitos de aceptación de las historias. \n",
    "\n",
    "Cada historia es un fagmento individual y totalmente funcional del producto que se está trabajo. Al final del sprint, el equipo muestra el producto completamente funcional que se desarrolló, si los interesados lo aceptan, se considera completo y no debe dedicarse más trabajo a el. \n",
    "\n",
    "Retro: Cuano el equiipo finaliza la muestyra, se evaulua el rendimiento del trabajo en grupo, esto no es una crítica, sino una conversación de como puede trabajar mejor como unidad. En lugar de evaluar las lecciones aprendidas al final del proyecto, se hacen pausas al final de cada sprint. \n",
    "\n",
    "Es una herramienta muy poderosa para adptarse y crecer continuamente como equipo, mejorando la rapidez y calidad en cada sprint. Scrum se ha cconvertido en el metodo agile más popular, ya que es ligero y efectivo. Es facil ver resultados con scrum. "
   ]
  },
  {
   "cell_type": "markdown",
   "id": "024ca5dc",
   "metadata": {},
   "source": [
    "# \n",
    "El equipo es el nucleo del producto, pero el product owner y el scrum master son escenciales para que se mueva en la dirección correcta. Es verdad, el PO es resposanble de la dirección a seguir, es el que se relaciona con las partes interesadas, define la visión de los porductos finales para que todos sepan lo que deben crear, elabora la hoja de ruta para mostrar cómo se alcanza la visión. Pero no es suficiente, además tiene que establecer cual es el trabajo más improtante para crear el propducto viable mínimo (MVP), este es el primer objetivo del produc to, ya que es el produto más pequeño que se produce para obtener opiniones del cliente. \n",
    "\n",
    "Esa opinión se convierte en nuevos requisitos y en nuevas historias del usuario, las historias son el trabajo pendiente del producto, el backlog. Los mejores PO, revisan y limpian constantemente la pila de trabajo, se aseguran de que contenga todos los detalles para que la porimera hisotria est´pe lista para que el equipo trabaje con ella. \n",
    "\n",
    "Mientras el PO se centra en las partes interesadas(clientes), el SM se centra en el equipo, es el propietario del proceso del equipo de trabajo de scrum, son los guardianes del amrco de trabajo de scrum, se aseguran que el equipo se mantenga dentro de los límites, modera las reuniones \"ceremonias\" y garantizan que las ceremonias se celebren en el momento adecuado con los asistentes adecuados. Son responsables del cumplimiento y actuan como guardianes del equipo. Su trabajo es garantizar la salud del equipo, por lo tanto, limita las distracciones e impide el exceso de compromisos.\n",
    "\n",
    "El PO quiere desarrollar y lanzar el producto rápido, y el  SM quiere que el equipo trabaje a un ritmo sostenible. Ambos son escenciales para poner en marcha scrum de forma exitosa. "
   ]
  },
  {
   "cell_type": "markdown",
   "id": "6bfa65b0",
   "metadata": {},
   "source": [
    "#\n",
    "\n",
    "Al centrarse el PO en el producto y el SM en el equipo, es normal que haya discrepancia de opiniones, le han dado al PO este equipo para hacer realidad la visión del cliente. En agile y scrum, el PO sabe que puede contar con el equipo durante un perido específico, no peude tardar ni gastar más, es natural que el PO quieta que el producto tenga todas las características posibles, pero el SM dice que debemos mantenernos dentro de los límites de Scrum, necesitamos todas las ceremonias, deben realizarse de forma correcta y trabajar a a un ritmo sostenible. \n",
    "\n",
    "Su semana laboral debe ser normal, sin fines de semana y sin horas extras, el SM aboga por que el equipo mejore su rendimiento, no en mejorar el producto, sino a sí mismo. Con tanta importancia en el equipo, el PO puede proocuparse en cómo vana  entregar el producto, es posible que no esté de acuerdo con el SM por centrarse en el proceso antes que en el producto, el SM debe mencionar la iomportancia de mantenerse dentro de los límites de scrum, además mencionará que los equipos saludables ofrecen mayor calidad. \n",
    "\n",
    "Se trata de una sana oposición, se encuentra el equilibrio. El PO y el SM son fuerzas opuestas que mantienen el equiplibrio, es una oposición necesaria. Agrega oposición entre el PO y el SM apra que el equipo florezca. "
   ]
  },
  {
   "cell_type": "markdown",
   "id": "bcfbcaba",
   "metadata": {},
   "source": [
    "## 1.02 \n",
    "\n",
    "### El PO como representante comercial. \n",
    "\n",
    "El PO está entre el equipo y el negocio, el equipo confía que el PO haya indicado las características adecuadas y el PO arantiza que se satisfagfan las necesidades del equipo. El exito del equipo depende en gran medida del PO. \n",
    "\n",
    "El PO es el neogciador princiapl, busca el equilibrio entre las aportaciones del equipo y la de las parts interesadas. El PO se reune con las partes interesadas a menudo, al menos una vez por sprint para ver si las historias describen las necesidades del negocio con precisión, también supervisa las pruebas diarias de lashistorias de cada sprint para aclarar los puntos necesarios a emdida que se desarrollan las histotrias, de este modo, se asegura que n hay sopresas al momebnto e la revisión del sprint. \n",
    "\n",
    "Cuando se reune con un cliente, acepta sus nuevas historias, comparte las historias de otros interesados y las organiza por orden de prioridad. Estas eruniones modifican el trabajo pendiente, la visión y dirección del equipo. Los interesados del negocio saben lo que quiere el cliente, pero los miembros del equipo saben cómo se hace, el equipo trabaja diario con el propietario, comparten historias técnicas o no funcionales para añadir normas téxnicas y de arquitecturaal producto, es decir, el PO al mismo tiempo de que negocia con los interesados para dar prioridad a todas las funciones, los convence de la necesidad de ofrecer aspectos no funcionales. Por ejemplo, los clientes deben inciair sesion en la aplicación, pero es necesario una base para lamacenar datos de usuarios, los interesados quieren que funcione el inicio de sesión, pero el equipo quiere la base de datos. Las historias no funcionales puede ralentizar la entrega de las características deseadas, el PO debe conseguir que los interesados comprendan la necesidad de este tipo de historias. El PO dialoga con cada grupo de gente que tenga interes personal en el resultado del producto, se centra en entender, definir, negociar e influir."
   ]
  },
  {
   "cell_type": "markdown",
   "id": "0db262f6",
   "metadata": {},
   "source": [
    "# \n",
    "\n",
    "Una de las funciones del PO es convertir una idea en visión, es dificil que este lo consiga solo. Un modo de involucrar a los demás para que contribuyan a encontrar la visión es inclurirlos en la definición, cuando se celebra una sesión para desarrollar la sesión el PO invita al equipo, a los itneresados y al patrocinador ejecutivo. Es improtante que el PO invite a los interesados de otras áreas de la empresa, por ejemplo, representantes de informática, atención al cliente o ventas, a pesar de que el proyecto no los beneficie directamente. \n",
    "\n",
    "Este es el primer paso para que toda la empresa conecte con la propuesta, si alguna persona o algun sector piensa que no se le considera o solicita opinión, es poco probable que respalde el produc to cuando sea necesario. No es necesario invitar a todos, solo a un representante clave de cada sección, se sugiente un numero de asistentes menor a 20. \n",
    "\n",
    "Se sugiere un ejercicio donde se desarrolla una caja (parte delantera y trasera), con bullet points, nombre, logo, descripción, entre otros. Una opción para la orgnización es realizar una reunión donde el PO diriga y el equipo vacía ideas, o también la opción de dividir a los asistentes para que cada equipo diseñe y venda su caja. Entre todos los asistentes se decide cuando un producto está hecho. "
   ]
  },
  {
   "cell_type": "markdown",
   "id": "3c235a36",
   "metadata": {},
   "source": [
    "# \n",
    "\n",
    "¿Como se va a entregar el produto? \n",
    "\n",
    "Una de las ehrramientas clave es la HOJA DE RUTA, el PO debe programar una sesión para establecerla, en esta reunión se encesita al PO, SM y a todo el equipo, pueden incluirse interesados, patrocinador o expertos en la materia, con estos asistentes nos aseguramos que no falte ningun elemento fundamental. \n",
    "\n",
    "De acuerdo al número de asistentes, esta reunión se recomienda de una dureación de entre cuatro y ocho horas. La reunión inicia identificando los temas, es decir, los grupos de característicias o funciones que necesita el producto, después de identificar los temas, se orgnizan de acuerdo a su prioridad. La prioridad puede no ser lineal, es decir, no debe completarse todo el tema de una vez, \n",
    "\n",
    "por ejemplo si se desarrolla una herramienta de gestión de la relación con el cliente, los temas eran perfil de usuario, perfil del cliente e informes, los temas pueden repartirse a lo largo del tiempo, \n",
    "\n",
    "una vez definida la hoja de ruta, el PO puede guiar al grupo a traves de la pila inicial de historias, el PO da a conocer las historias y el grupo las implementa en el tema adecuado de la hoja de ruta. Los asistentes también pueden indentificar historias faltantes para incluirlas en la hoja de ruta, esta es solo una aproximación, no como un plazo fijo. Es un docuemtno en evolución que guia al equipo hasta la finalización. \n",
    "\n",
    "\n",
    "#\n",
    "\n",
    "Scrum no es inmune a obstáculos comunes, un obstáculo clásico, es tener a una parte interesada rebelde, donde el PO muestra la historia y el itneresado considera que la historia no es correcta. El primer paso consiste en que el PO y el equipo escuchen lo que dice el interesado, en cada una de estas sesiones, debe haber anotaciones de estas interacciones.  Se deben frmular preguntas para saber lo que piensa el interesado sobre las historias de usuario, si considera que son malas, el PO debe hablar con el al termino de la sesión, si considera que es buena historia, debemos preguntar si no está de acuerdo con los criterios para aceptar la historia, si no los acepta, es necesario anotar rapidamente lo que busca, pues puede tratarse de una nueva historia, se agradece por informar al equipo. Si el interesado considera que la historia y los criterios son correctos, pero tiene otros motivos para estar en desacuerdo, hayq eu anotar el desacuerdo y ofrecer una reunión con el PO, para que entienda que al equipo le importan sus necesidades. También pueden anotarse las preocupaciones para que todos los participantes puedan verlas. \n",
    "\n",
    "La mayoria de las veces, los itneresados no comprenden los criterios, o buscan una historia adicional, otras veces se trata de alguien muy exigente, si esto continua, el PO y el SM deben reunirse con el patrocinador ejecutivo para buscar otra solución. \n",
    "\n",
    "La finalización anómala de un sprint es también un obstáculo poco común, pero que por lo mismo, rara vez se analiza a profundidad. Se deriva de algún imprevisto, en donde el sprint planificado deja de ser válido, por ejemplo, si se crea una herramienta y finalmente se decide comprar una, se finaliza el sprint y se arranca uno nuevo. Otra razón más común es cuando el equipo arraca un nuevo sprint, tras un par de días se dan cuenta que tardará mas tiempo del esperado, es etonces cuando el PO puedeplanificar nuevamente el sprint. El PO es quien tiene la última decisión apra finalizar el sprint, la decisión se basa en el valor, como no se puedemodificar tiempo ni costo, es necesario evaluar si es lo más valioso que puede entregar el equipo con los nuevos datos, el PO necesita consultar con el equipo y con el SM para finalizar el sprint. "
   ]
  },
  {
   "cell_type": "markdown",
   "id": "ceeceb6b",
   "metadata": {},
   "source": [
    "## 1.03 El PO como guia comercial del equipo.\n",
    "\n",
    "Los equipos de scrum con más experiencia, concuerdan con que la parte más dificil es crear historias de usuario. La escritura de las historias tiene un ciclo, las primeras historias suelen ser largas y con pocos detalles. Se les concen como epopeyas, a medida que el equipo conoce las necesidades del usuario, las epopeyas se descomponen en historias más cortas. Las historias de usuario deben seguir el acrónimo en ingles INVEST:\n",
    "\n",
    "I: Independient ( Independientes ) \n",
    "N: Negociable ( Negociable )\n",
    "V: Valuable ( Valiosa ) \n",
    "E: Estimable ( Calculable ) \n",
    "S: Small ( Pequeñas )\n",
    "T: Testable ( Comprobable ) \n",
    "\n",
    "Cada historia debe proporcionar valor por sí misma, el análsisi basado en la función puede ayudar a escribir historias de usuario, ya que son los apsos básicos apra realizar una tarea: \n",
    "\n",
    "- Crear \n",
    "- Leer\n",
    "- Actualizar \n",
    "- Eliminar\n",
    "\n",
    "En el ejemplo que analizamos previamente de la herrameienta de gestión, la epopeya podría ser: \"como vendedor, quiero gestionar el perfil de mis clientes para tener la información precisa\" una primer historia siguiendo los pasos básicos, puede ser: \"como vendedor, quiero CREAR un perfil de cliente para poder almacenar su información\" , \"como vendedor quiero buscar o LEER información acerca de mis clientes para saber qué relaciones debo fomentar\", \" como vendedor quiero ACTUALIZAR el perfil de un cliente para que los datos sean precisos\" y \"como vendedor quiero ELIMINAR el perfil de mis clientes para no eprder el tiempo con negocios con los que ya no trabajo\".\n",
    "\n",
    "Cada de estas historias tiene valor, serán utiles aunque las otras no estén hechas. Otra técnica a seguir es establecer los pasos de un proceso para dividir las historias de usuario, por ejemplo, seguir los pasos desde la perspectiva del cliente. \n",
    "\n",
    "#\n",
    "\n",
    "Ya contamos con la visión, los temas y la hoja de ruta para el proyecto, ahora debemos calcular qué se va a entrgar y cuando. Es necesario planificar una reunión para planificar el lanzamiento, con el equipo, el scrum master, el PO, los interesados, expertos en la materia y puede incluirse o no el patrocinador, esta reunión tendrá una duración de una o dos horas. Scrum se centra en hacer lo justo y a tiempo, es por lo mismo que se prefiere ser preciso y planificar tiempos cortos. \n",
    "\n",
    "Para la reunión de planificación del lanzamiento, es necesario saber la longitud del sprint, el trabajo pendiente calculado, así como su orden de prioridad y la velocidad real o prevista. En un plan basado en el cronograma, se cuenta con una fecha fija, se determina qué se entrega en ese periodo, de acuerdo a la prioridad de las historias y los temas. \n",
    "    - Por ejemplo, en un plan trimestral, la velocidad de cada sprint será de 12 puntos, entonces el equipo entregará dos sprints al mes (24 puntos) y cubrirá 72 puntos al finalizar el trimestre. - \n",
    "En un plan de lanzamiento basado en la funcionalidad, el PO y los interesados pueden ver los temas y plantear objetivos de acuerdo al proyecto, \n",
    "    - Como ya tenemos las historias, el equipo puede reunir las historias y asignar valor a cada una para sumar los cálculos aproximados en 12 puntos por sprint, de esta forma podemos tener también la fecha de lanzamiento. Es una fecha aproximada, es un documento evolutivo que debe ser actualizado al final de cada sprint. \n",
    "    \n",
    "EL plan de lanzamento ayuda al PO y al equipo en convertir la hoja de ruta en una herramienta táctica para conseguir la visión, gracias a ella los resultados del equipo son valiosos. \n",
    "\n",
    "#\n",
    "\n",
    "Una de las responsabilidades del PO es actualizar el trabajo pendiente, para que el equipo tenga historias sólidas al planificar el sprint. El PO organiza el trabajo a medida que progresan las historias y se reune con los itneresados, sin embargo, una parte muy iomportante es la limpieza del trabajo pendiente. \n",
    "\n",
    "Esta se divide en dos reuniones: PLanificación previa del sprint y la limpieza del trabajo pendiente. Se decide dividir ya que es mejor que todo el equipo estépresente en la planificación previa, para que escuchen las historias. A la sesión de limpieza de los trabajos pendientes solo asiste el PO, el SM, el experto en la materia y el experto técnico, se escriben nuevas historias o se modifican las hechas para asegurarse que el trabajo pendiente refleje la visión. \n",
    "\n",
    "Una doble sesión de planificación donde se engloben estas dos, también puede resultar, cuando el sprint va por la mitad, antes de la reunión previa del sprint, ya que si existen propuestas adicionales sobre los requisitos de aceptación el PO tiene tiempo de obtener respuestas, de igual forma, si el PO necesita respuestas o desea una historia determinada en el siguiente sprint, puede obtener las respuestas y limpiar para dar prioridad a esta historia antes de comenzar la planificación. \n",
    "\n",
    "Durante la sesión de limpieza de los trabajos pendientes, el PO indica el objetivo del sprint, depende del plan de lanzamiento y ayuda a centrar al equipo en ese obhjetivo de lanzamiento. El equipo revisa las historias, asegurándose que sean claras, se comentan en detalle y se ponen de acuerdo sobre qué quiere decir \"que una hsitoria esté hecha\", durante la sesión también se actualizan los trabajos pendientes y se actualiza la hoja de ruta para mostrar cambios producidos.  \n",
    "\n",
    "Algunos equipos no se reunen para estas sesiones de limpieza, sin emabrgo, se recomeinda que para equipos nuevos o jóvenes, se introduzcan estas prácticas para aprender a negociar y colaborar como equipo. "
   ]
  }
 ],
 "metadata": {
  "kernelspec": {
   "display_name": "Python 3 (ipykernel)",
   "language": "python",
   "name": "python3"
  },
  "language_info": {
   "codemirror_mode": {
    "name": "ipython",
    "version": 3
   },
   "file_extension": ".py",
   "mimetype": "text/x-python",
   "name": "python",
   "nbconvert_exporter": "python",
   "pygments_lexer": "ipython3",
   "version": "3.10.9"
  }
 },
 "nbformat": 4,
 "nbformat_minor": 5
}
