{
 "cells": [
  {
   "cell_type": "markdown",
   "id": "30ffa123",
   "metadata": {},
   "source": [
    "### Notas Abner Lugo - Octubre 2023"
   ]
  },
  {
   "cell_type": "markdown",
   "id": "d5923150",
   "metadata": {},
   "source": [
    "## 01.01 Scrum avanzado: \n",
    "\n",
    "### Perfeccionamos la base de Scrum:"
   ]
  },
  {
   "cell_type": "markdown",
   "id": "6c1ee852",
   "metadata": {},
   "source": [
    "Repaso general: \n",
    "\n",
    "Scrum es un marco de trabajo basado en el valor, se trata de conocer el valor que busca el cliente, cómo organizarse de acuerdo a ese valor y cómo entregar ese valor de una manera rapida e interactiva. \n",
    "\n",
    "Es un amrco de trabajo ligero, está formado por periodos breves llamados sprints. Suelen durar dos semanas y durante ese periodo el equipo compelto se dedica a entregar tanto valor como haya solicitado el cliente.\n",
    "\n",
    "Para mantenerse centrado en los sprints que deben entregar, el equipo se reune de pie todos los días durante quince minutos, en estas reuniones, el quipo coordina las tareas diarias y destaca las áreas en las que necesitaayuda. \n",
    "\n",
    "El equipo recibe el trabajo del product owner que es el representante comercial del cliente. Este se encarga de conocer el trabajo que pide la parte interesada y organizarlo de acuerdo a su prioridad, lo comparte al equipo como historias del usuario y el equipo lo desarrolla y prueba segun los requisitos de aceptación de las historias. \n",
    "\n",
    "Cada historia es un fagmento individual y totalmente funcional del producto que se está trabajo. Al final del sprint, el equipo muestra el producto completamente funcional que se desarrolló, si los interesados lo aceptan, se considera completo y no debe dedicarse más trabajo a el. \n",
    "\n",
    "Retro: Cuano el equiipo finaliza la muestyra, se evaulua el rendimiento del trabajo en grupo, esto no es una crítica, sino una conversación de como puede trabajar mejor como unidad. En lugar de evaluar las lecciones aprendidas al final del proyecto, se hacen pausas al final de cada sprint. \n",
    "\n",
    "Es una herramienta muy poderosa para adptarse y crecer continuamente como equipo, mejorando la rapidez y calidad en cada sprint. Scrum se ha cconvertido en el metodo agile más popular, ya que es ligero y efectivo. Es facil ver resultados con scrum. "
   ]
  },
  {
   "cell_type": "markdown",
   "id": "961befe6",
   "metadata": {},
   "source": [
    "# \n",
    "El equipo es el nucleo del producto, pero el product owner y el scrum master son escenciales para que se mueva en la dirección correcta. Es verdad, el PO es resposanble de la dirección a seguir, es el que se relaciona con las partes interesadas, define la visión de los porductos finales para que todos sepan lo que deben crear, elabora la hoja de ruta para mostrar cómo se alcanza la visión. Pero no es suficiente, además tiene que establecer cual es el trabajo más improtante para crear el propducto viable mínimo (MVP), este es el primer objetivo del produc to, ya que es el produto más pequeño que se produce para obtener opiniones del cliente. \n",
    "\n",
    "Esa opinión se convierte en nuevos requisitos y en nuevas historias del usuario, las historias son el trabajo pendiente del producto, el backlog. Los mejores PO, revisan y limpian constantemente la pila de trabajo, se aseguran de que contenga todos los detalles para que la porimera hisotria est´pe lista para que el equipo trabaje con ella. \n",
    "\n",
    "Mientras el PO se centra en las partes interesadas(clientes), el SM se centra en el equipo, es el propietario del proceso del equipo de trabajo de scrum, son los guardianes del amrco de trabajo de scrum, se aseguran que el equipo se mantenga dentro de los límites, modera las reuniones \"ceremonias\" y garantizan que las ceremonias se celebren en el momento adecuado con los asistentes adecuados. Son responsables del cumplimiento y actuan como guardianes del equipo. Su trabajo es garantizar la salud del equipo, por lo tanto, limita las distracciones e impide el exceso de compromisos.\n",
    "\n",
    "El PO quiere desarrollar y lanzar el producto rápido, y el  SM quiere que el equipo trabaje a un ritmo sostenible. Ambos son escenciales para poner en marcha scrum de forma exitosa. "
   ]
  },
  {
   "cell_type": "markdown",
   "id": "5b7f595f",
   "metadata": {},
   "source": [
    "#\n",
    "\n",
    "Al centrarse el PO en el producto y el SM en el equipo, es normal que haya discrepancia de opiniones, le han dado al PO este equipo para hacer realidad la visión del cliente. En agile y scrum, el PO sabe que puede contar con el equipo durante un perido específico, no peude tardar ni gastar más, es natural que el PO quieta que el producto tenga todas las características posibles, pero el SM dice que debemos mantenernos dentro de los límites de Scrum, necesitamos todas las ceremonias, deben realizarse de forma correcta y trabajar a a un ritmo sostenible. \n",
    "\n",
    "Su semana laboral debe ser normal, sin fines de semana y sin horas extras, el SM aboga por que el equipo mejore su rendimiento, no en mejorar el producto, sino a sí mismo. Con tanta importancia en el equipo, el PO puede proocuparse en cómo vana  entregar el producto, es posible que no esté de acuerdo con el SM por centrarse en el proceso antes que en el producto, el SM debe mencionar la iomportancia de mantenerse dentro de los límites de scrum, además mencionará que los equipos saludables ofrecen mayor calidad. \n",
    "\n",
    "Se trata de una sana oposición, se encuentra el equilibrio. El PO y el SM son fuerzas opuestas que mantienen el equiplibrio, es una oposición necesaria. Agrega oposición entre el PO y el SM apra que el equipo florezca. "
   ]
  },
  {
   "cell_type": "code",
   "execution_count": null,
   "id": "7ed7964c",
   "metadata": {},
   "outputs": [],
   "source": []
  }
 ],
 "metadata": {
  "kernelspec": {
   "display_name": "Python 3 (ipykernel)",
   "language": "python",
   "name": "python3"
  },
  "language_info": {
   "codemirror_mode": {
    "name": "ipython",
    "version": 3
   },
   "file_extension": ".py",
   "mimetype": "text/x-python",
   "name": "python",
   "nbconvert_exporter": "python",
   "pygments_lexer": "ipython3",
   "version": "3.10.9"
  }
 },
 "nbformat": 4,
 "nbformat_minor": 5
}
